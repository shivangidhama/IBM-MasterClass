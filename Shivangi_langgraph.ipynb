{
  "nbformat": 4,
  "nbformat_minor": 0,
  "metadata": {
    "colab": {
      "provenance": [],
      "include_colab_link": true
    },
    "kernelspec": {
      "name": "python3",
      "display_name": "Python 3"
    },
    "language_info": {
      "name": "python"
    }
  },
  "cells": [
    {
      "cell_type": "markdown",
      "metadata": {
        "id": "view-in-github",
        "colab_type": "text"
      },
      "source": [
        "<a href=\"https://colab.research.google.com/github/shivangidhama/IBM-MasterClass/blob/main/Shivangi_langgraph.ipynb\" target=\"_parent\"><img src=\"https://colab.research.google.com/assets/colab-badge.svg\" alt=\"Open In Colab\"/></a>"
      ]
    },
    {
      "cell_type": "markdown",
      "source": [
        "# STEP 0: Install dependencies"
      ],
      "metadata": {
        "id": "K3yWWtQ8cC4i"
      }
    },
    {
      "cell_type": "code",
      "source": [
        "!pip install -qU google-generativeai==0.8.5 google-ai-generativelanguage==0.6.15 \\\n",
        "langgraph langchain langchain-google-genai openai\n"
      ],
      "metadata": {
        "id": "DkdgKWrfpBgT",
        "colab": {
          "base_uri": "https://localhost:8080/"
        },
        "outputId": "8c321c7c-f964-4103-b3ff-9074cb547b40"
      },
      "execution_count": null,
      "outputs": [
        {
          "output_type": "stream",
          "name": "stdout",
          "text": [
            "\u001b[2K     \u001b[90m━━━━━━━━━━━━━━━━━━━━━━━━━━━━━━━━━━━━━━━━\u001b[0m \u001b[32m43.7/43.7 kB\u001b[0m \u001b[31m1.3 MB/s\u001b[0m eta \u001b[36m0:00:00\u001b[0m\n",
            "\u001b[2K   \u001b[90m━━━━━━━━━━━━━━━━━━━━━━━━━━━━━━━━━━━━━━━━\u001b[0m \u001b[32m143.8/143.8 kB\u001b[0m \u001b[31m1.7 MB/s\u001b[0m eta \u001b[36m0:00:00\u001b[0m\n",
            "\u001b[2K   \u001b[90m━━━━━━━━━━━━━━━━━━━━━━━━━━━━━━━━━━━━━━━━\u001b[0m \u001b[32m42.0/42.0 kB\u001b[0m \u001b[31m2.4 MB/s\u001b[0m eta \u001b[36m0:00:00\u001b[0m\n",
            "\u001b[2K   \u001b[90m━━━━━━━━━━━━━━━━━━━━━━━━━━━━━━━━━━━━━━━━\u001b[0m \u001b[32m765.0/765.0 kB\u001b[0m \u001b[31m6.0 MB/s\u001b[0m eta \u001b[36m0:00:00\u001b[0m\n",
            "\u001b[2K   \u001b[90m━━━━━━━━━━━━━━━━━━━━━━━━━━━━━━━━━━━━━━━━\u001b[0m \u001b[32m43.8/43.8 kB\u001b[0m \u001b[31m2.7 MB/s\u001b[0m eta \u001b[36m0:00:00\u001b[0m\n",
            "\u001b[2K   \u001b[90m━━━━━━━━━━━━━━━━━━━━━━━━━━━━━━━━━━━━━━━━\u001b[0m \u001b[32m50.2/50.2 kB\u001b[0m \u001b[31m3.5 MB/s\u001b[0m eta \u001b[36m0:00:00\u001b[0m\n",
            "\u001b[2K   \u001b[90m━━━━━━━━━━━━━━━━━━━━━━━━━━━━━━━━━━━━━━━━\u001b[0m \u001b[32m216.5/216.5 kB\u001b[0m \u001b[31m12.8 MB/s\u001b[0m eta \u001b[36m0:00:00\u001b[0m\n",
            "\u001b[?25h"
          ]
        }
      ]
    },
    {
      "cell_type": "markdown",
      "source": [
        "# STEP 1: Imports and secure API key input"
      ],
      "metadata": {
        "id": "XvoFPl11cFhj"
      }
    },
    {
      "cell_type": "code",
      "source": [
        "import os\n",
        "import getpass\n",
        "from langgraph.graph import StateGraph, END\n",
        "from langchain_google_genai import ChatGoogleGenerativeAI\n",
        "from langchain_core.messages import HumanMessage"
      ],
      "metadata": {
        "id": "6KGvoEBDqpMp"
      },
      "execution_count": null,
      "outputs": []
    },
    {
      "cell_type": "markdown",
      "source": [
        "\n",
        "# Secure Gemini API Key input"
      ],
      "metadata": {
        "id": "W28u20SxcIiH"
      }
    },
    {
      "cell_type": "code",
      "source": [
        "API_KEY = getpass.getpass('Enter Gemini API Key:')\n",
        "os.environ['GOOGLE_API_KEY'] = API_KEY"
      ],
      "metadata": {
        "colab": {
          "base_uri": "https://localhost:8080/"
        },
        "id": "VjaLkgoMsLH5",
        "outputId": "aa0c008d-0d7e-483a-8541-5f345b1ed767"
      },
      "execution_count": null,
      "outputs": [
        {
          "name": "stdout",
          "output_type": "stream",
          "text": [
            "Enter Gemini API Key:··········\n"
          ]
        }
      ]
    },
    {
      "cell_type": "markdown",
      "source": [
        "# STEP 2: Initialize Gemini 1.5 Flash"
      ],
      "metadata": {
        "id": "eusINPuVcLXp"
      }
    },
    {
      "cell_type": "code",
      "source": [
        "llm =ChatGoogleGenerativeAI(model=\"models/gemini-1.5-flash-latest\", temperature=0.2)"
      ],
      "metadata": {
        "id": "6wOd_hl8soKH"
      },
      "execution_count": null,
      "outputs": []
    },
    {
      "cell_type": "markdown",
      "source": [
        "# STEP 3: Node to ask user for symptom"
      ],
      "metadata": {
        "id": "o07zbkLWcOVW"
      }
    },
    {
      "cell_type": "code",
      "source": [
        "def get_symptom(state :dict)->dict:\n",
        "  symptom=input(\"Welcome to XYZ hospital,Please enter your symptom: \")\n",
        "  state[\"symptom\"]=symptom\n",
        "  return state"
      ],
      "metadata": {
        "id": "Zx-wTKuZtUzc"
      },
      "execution_count": null,
      "outputs": []
    },
    {
      "cell_type": "markdown",
      "source": [
        "# STEP 4: Node to classify the symptom"
      ],
      "metadata": {
        "id": "0KIzyYPVcRVm"
      }
    },
    {
      "cell_type": "code",
      "source": [
        "def classify_symptom(state :dict)->dict:\n",
        "  prompt=(\n",
        "      \"You are a helpful Medical Assistant,Classify the symptoms below into one of the categories \\n\"\n",
        "      \"General\\n -Emegrency \\n -mental health \\n\"\n",
        "      f\"symptom: {state['symptom']}\\n\"\n",
        "      \"Respond only with one word : General,Emergency Or Mental Health\"\n",
        "      \"#Example : input :I have a fever, output: General\"\n",
        "  )\n",
        "  response=llm([HumanMessage(content=prompt)])\n",
        "  category=response.content.strip()\n",
        "  print(f\"LLM classifies the symptom as :{category}\")\n",
        "  state[\"category\"]=response.content\n",
        "  return state"
      ],
      "metadata": {
        "id": "kuPzG1TRuYo0"
      },
      "execution_count": null,
      "outputs": []
    },
    {
      "cell_type": "markdown",
      "source": [
        "# STEP 5: Router logic to route to the correct node\n"
      ],
      "metadata": {
        "id": "kESmxbnicWpS"
      }
    },
    {
      "cell_type": "code",
      "source": [
        "def symptom_router(state:dict)->dict:\n",
        "  cat = state[\"category\"].lower()\n",
        "  if \"general\" in cat:\n",
        "    return \"general\"\n",
        "  elif \"emergency\" in cat:\n",
        "    return \"emergency\"\n",
        "  elif \"mental health\" in cat:\n",
        "    return \"mental_health\"\n",
        "  else:\n",
        "    return \"general\""
      ],
      "metadata": {
        "id": "0r-YyM05wNVM"
      },
      "execution_count": null,
      "outputs": []
    },
    {
      "cell_type": "markdown",
      "source": [
        "# STEP 6: Category-specific response nodes\n"
      ],
      "metadata": {
        "id": "cZuR4VGscake"
      }
    },
    {
      "cell_type": "code",
      "source": [
        "def general_node(state :dict)->dict:\n",
        "  state[\"answer\"] = f\" '{state['symptom']}':seems general :directing you to general ward for consulting a doctor\"\n",
        "  return state\n",
        "\n",
        "def emergency_node(state :dict)->dict:\n",
        "  state[\"answer\"] = f\" '{state['symptom']}':It is a Medical Emergency :seeking immediate help\"\n",
        "  return state\n",
        "def mental_health_node(state :dict)->dict:\n",
        "  state[\"answer\"] = f\" '{state['symptom']}':seems like a medical health issue :talk to our councellor\"\n",
        "  return state\n"
      ],
      "metadata": {
        "id": "7FaJUFq0x6oV"
      },
      "execution_count": null,
      "outputs": []
    },
    {
      "cell_type": "markdown",
      "source": [
        "# STEP 7: Build LangGraph\n"
      ],
      "metadata": {
        "id": "I1ek0SwzcehS"
      }
    },
    {
      "cell_type": "code",
      "source": [
        "builder = StateGraph(dict)\n",
        "\n",
        "#define node\n",
        "builder.set_entry_point(\"get_symptom\")\n",
        "builder.add_node(\"get_symptom\", get_symptom)\n",
        "builder.add_node(\"Classify\", classify_symptom)\n",
        "builder.add_node(\"general\", general_node)\n",
        "builder.add_node(\"emergency\", emergency_node)\n",
        "builder.add_node(\"mental_health\", mental_health_node)\n",
        "\n",
        "#define edge\n",
        "builder.add_edge(\"get_symptom\", \"Classify\")\n",
        "builder.add_conditional_edges(\"Classify\",symptom_router,{\n",
        "    \"general\": \"general\",\n",
        "    \"emergency\": \"emergency\",\n",
        "    \"mental_health\": \"mental_health\"\n",
        "})\n",
        "builder.add_edge(\"general\",END)\n",
        "builder.add_edge(\"emergency\",END)\n",
        "builder.add_edge(\"mental_health\",END)"
      ],
      "metadata": {
        "colab": {
          "base_uri": "https://localhost:8080/"
        },
        "id": "KEoJyhr36Gst",
        "outputId": "4e81f2fc-1ab8-4cbc-9b0e-59d002eac0d6"
      },
      "execution_count": null,
      "outputs": [
        {
          "output_type": "execute_result",
          "data": {
            "text/plain": [
              "<langgraph.graph.state.StateGraph at 0x7c9e64c3e590>"
            ]
          },
          "metadata": {},
          "execution_count": 16
        }
      ]
    },
    {
      "cell_type": "markdown",
      "source": [
        "# STEP 8: Compile and invoke the graph\n"
      ],
      "metadata": {
        "id": "GbAgCeZYci5k"
      }
    },
    {
      "cell_type": "code",
      "source": [
        "graph =builder.compile()\n",
        "final_state = graph.invoke({})\n",
        "print(\"Final Output\\n\")\n",
        "print(final_state[\"answer\"])"
      ],
      "metadata": {
        "colab": {
          "base_uri": "https://localhost:8080/"
        },
        "id": "XWDL6mMt7t9o",
        "outputId": "9b17a11d-8d40-408a-cd99-ee56cf274e11"
      },
      "execution_count": null,
      "outputs": [
        {
          "output_type": "stream",
          "name": "stdout",
          "text": [
            "Welcome to XYZ hospital,Please enter your symptom: I have a very high fever.  I shiver\n",
            "LLM classifies the symptom as :Emergency\n",
            "Final Output\n",
            "\n",
            " 'I have a very high fever.  I shiver':It is a Medical Emergency :seeking immediate help\n"
          ]
        }
      ]
    },
    {
      "cell_type": "code",
      "source": [],
      "metadata": {
        "id": "YUzHsGgh8iEO"
      },
      "execution_count": null,
      "outputs": []
    }
  ]
}